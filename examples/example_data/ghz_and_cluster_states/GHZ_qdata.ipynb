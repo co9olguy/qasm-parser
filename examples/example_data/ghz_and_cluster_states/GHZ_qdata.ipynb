{
 "cells": [
  {
   "cell_type": "code",
   "execution_count": 118,
   "metadata": {},
   "outputs": [],
   "source": [
    "import cirq\n",
    "import numpy as np\n",
    "from cirq import Simulator\n",
    "from cirq.ops import CZ, H, S, CNOT\n",
    "from cirq.circuits import InsertStrategy"
   ]
  },
  {
   "cell_type": "code",
   "execution_count": 119,
   "metadata": {},
   "outputs": [],
   "source": [
    "##Initialize the parameters"
   ]
  },
  {
   "cell_type": "code",
   "execution_count": 120,
   "metadata": {},
   "outputs": [],
   "source": [
    "num_qubits = 6\n",
    "noise=0.01\n",
    "num_rep=1000\n",
    "m=4"
   ]
  },
  {
   "cell_type": "code",
   "execution_count": 121,
   "metadata": {},
   "outputs": [],
   "source": [
    "## Design the cirquit for GHZ state"
   ]
  },
  {
   "cell_type": "code",
   "execution_count": 122,
   "metadata": {},
   "outputs": [],
   "source": [
    "q = [cirq.GridQubit(i, 0) for i in range(num_qubits)]\n",
    "circuit = cirq.Circuit()\n",
    "circuit.append(H(q[0]))\n",
    "for i in range(num_qubits-1):   \n",
    "    circuit.append([CNOT(q[i], q[i+1])],strategy=InsertStrategy.EARLIEST)"
   ]
  },
  {
   "cell_type": "code",
   "execution_count": 123,
   "metadata": {},
   "outputs": [],
   "source": [
    "# Add Deploraising noise\n",
    "for i in range (num_qubits):      \n",
    "    if i==0:\n",
    "        circuit.append(cirq.depolarize(p=noise)(q[i]),strategy=InsertStrategy.NEW)\n",
    "    else:\n",
    "        circuit.append(cirq.depolarize(p=noise)(q[i]),strategy=InsertStrategy.INLINE) "
   ]
  },
  {
   "cell_type": "code",
   "execution_count": 124,
   "metadata": {},
   "outputs": [
    {
     "name": "stdout",
     "output_type": "stream",
     "text": [
      "(0, 0): ───H───@───────────────────D(0.01)───\n",
      "               │\n",
      "(1, 0): ───────X───@───────────────D(0.01)───\n",
      "                   │\n",
      "(2, 0): ───────────X───@───────────D(0.01)───\n",
      "                       │\n",
      "(3, 0): ───────────────X───@───────D(0.01)───\n",
      "                           │\n",
      "(4, 0): ───────────────────X───@───D(0.01)───\n",
      "                               │\n",
      "(5, 0): ───────────────────────X───D(0.01)───\n"
     ]
    }
   ],
   "source": [
    "print(circuit)"
   ]
  },
  {
   "cell_type": "code",
   "execution_count": 125,
   "metadata": {},
   "outputs": [],
   "source": [
    "### Measure the outcome in the computational bases\n",
    "# Notice that simulator.run performs the measurment while to get the final state we only need the simulator "
   ]
  },
  {
   "cell_type": "code",
   "execution_count": 126,
   "metadata": {},
   "outputs": [
    {
     "name": "stdout",
     "output_type": "stream",
     "text": [
      "Counter({0: 487, 63: 457, 1: 9, 4: 9, 62: 8, 47: 7, 59: 5, 61: 5, 32: 5, 31: 2, 16: 2, 2: 2, 55: 1, 8: 1})\n"
     ]
    }
   ],
   "source": [
    "circuit_meas=circuit\n",
    "circuit_meas.append(cirq.measure(*q, key='x'))\n",
    "\n",
    "simulator_meas = cirq.Simulator()\n",
    "result_meas = simulator_meas.run(circuit_meas, repetitions=num_rep)\n",
    "counts=print(result_meas.histogram(key='x'));"
   ]
  },
  {
   "cell_type": "code",
   "execution_count": null,
   "metadata": {},
   "outputs": [],
   "source": []
  },
  {
   "cell_type": "code",
   "execution_count": null,
   "metadata": {},
   "outputs": [],
   "source": []
  }
 ],
 "metadata": {
  "kernelspec": {
   "display_name": "Python 3",
   "language": "python",
   "name": "python3"
  },
  "language_info": {
   "codemirror_mode": {
    "name": "ipython",
    "version": 3
   },
   "file_extension": ".py",
   "mimetype": "text/x-python",
   "name": "python",
   "nbconvert_exporter": "python",
   "pygments_lexer": "ipython3",
   "version": "3.7.6"
  }
 },
 "nbformat": 4,
 "nbformat_minor": 4
}
