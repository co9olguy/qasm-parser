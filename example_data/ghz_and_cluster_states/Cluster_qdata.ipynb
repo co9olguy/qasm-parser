{
 "cells": [
  {
   "cell_type": "code",
   "execution_count": 25,
   "metadata": {},
   "outputs": [],
   "source": [
    "import cirq\n",
    "import numpy as np\n",
    "from cirq import Simulator\n",
    "from cirq.ops import CZ, H, S, CNOT\n",
    "from cirq.circuits import InsertStrategy"
   ]
  },
  {
   "cell_type": "code",
   "execution_count": 26,
   "metadata": {},
   "outputs": [],
   "source": [
    "##Initialize the parameters"
   ]
  },
  {
   "cell_type": "code",
   "execution_count": 27,
   "metadata": {},
   "outputs": [],
   "source": [
    "num_qubits = 3\n",
    "noise=0.0\n",
    "num_rep=1000\n",
    "m=4"
   ]
  },
  {
   "cell_type": "code",
   "execution_count": 28,
   "metadata": {},
   "outputs": [],
   "source": [
    "## Design the cirquit for 2D cluster state"
   ]
  },
  {
   "cell_type": "code",
   "execution_count": 29,
   "metadata": {},
   "outputs": [],
   "source": [
    "# Build a n*n grid\n",
    "q=[]\n",
    "for i in range(num_qubits):\n",
    "    [q.append( cirq.GridQubit(i, j))for j in range(num_qubits)]     "
   ]
  },
  {
   "cell_type": "code",
   "execution_count": 30,
   "metadata": {},
   "outputs": [],
   "source": [
    "circuit_2DC= cirq.Circuit()\n",
    "for i in range(len(q)):\n",
    "    circuit_2DC.append(H(q[i])) "
   ]
  },
  {
   "cell_type": "code",
   "execution_count": 31,
   "metadata": {},
   "outputs": [],
   "source": [
    "for i in range(0,len(q)-1,3):\n",
    "    circuit_2DC .append([CZ(q[i], q[i+1])],strategy=InsertStrategy.EARLIEST)\n",
    "    circuit_2DC .append([CZ(q[i+1], q[i+2])],strategy=InsertStrategy.EARLIEST)"
   ]
  },
  {
   "cell_type": "code",
   "execution_count": 32,
   "metadata": {},
   "outputs": [],
   "source": [
    "for i in range(0,len(q)-3):\n",
    "    circuit_2DC .append([CZ(q[i], q[i+3])],strategy=InsertStrategy.NEW)"
   ]
  },
  {
   "cell_type": "code",
   "execution_count": 33,
   "metadata": {},
   "outputs": [
    {
     "name": "stdout",
     "output_type": "stream",
     "text": [
      "(0, 0): ───H───@───────@───────────────────────\n",
      "               │       │\n",
      "(0, 1): ───H───@───@───┼───@───────────────────\n",
      "                   │   │   │\n",
      "(0, 2): ───H───────@───┼───┼───@───────────────\n",
      "                       │   │   │\n",
      "(1, 0): ───H───@───────@───┼───┼───@───────────\n",
      "               │           │   │   │\n",
      "(1, 1): ───H───@───@───────@───┼───┼───@───────\n",
      "                   │           │   │   │\n",
      "(1, 2): ───H───────@───────────@───┼───┼───@───\n",
      "                                   │   │   │\n",
      "(2, 0): ───H───@───────────────────@───┼───┼───\n",
      "               │                       │   │\n",
      "(2, 1): ───H───@───@───────────────────@───┼───\n",
      "                   │                       │\n",
      "(2, 2): ───H───────@───────────────────────@───\n"
     ]
    }
   ],
   "source": [
    "print(circuit_2DC)"
   ]
  },
  {
   "cell_type": "code",
   "execution_count": 34,
   "metadata": {},
   "outputs": [],
   "source": [
    "for i in range(len(q)):      \n",
    "        if i==0:\n",
    "            circuit_2DC.append(cirq.depolarize(p=noise)(q[i]),strategy=InsertStrategy.NEW)\n",
    "        else:\n",
    "            circuit_2DC.append(cirq.depolarize(p=noise)(q[i]),strategy=InsertStrategy.INLINE)\n"
   ]
  },
  {
   "cell_type": "code",
   "execution_count": 35,
   "metadata": {},
   "outputs": [
    {
     "name": "stdout",
     "output_type": "stream",
     "text": [
      "Counter({336: 7, 490: 7, 476: 7, 294: 6, 334: 6, 248: 6, 191: 6, 287: 6, 105: 6, 318: 5, 28: 5, 139: 5, 107: 5, 346: 5, 457: 5, 233: 5, 222: 5, 409: 5, 65: 5, 234: 5, 24: 5, 282: 4, 340: 4, 143: 4, 134: 4, 223: 4, 100: 4, 254: 4, 373: 4, 354: 4, 202: 4, 303: 4, 335: 4, 148: 4, 471: 4, 448: 4, 66: 4, 379: 4, 277: 4, 159: 4, 320: 4, 259: 4, 385: 4, 3: 4, 242: 4, 183: 4, 434: 4, 480: 4, 133: 4, 438: 4, 414: 4, 329: 4, 378: 4, 412: 4, 506: 4, 384: 4, 261: 4, 333: 4, 154: 4, 117: 4, 313: 4, 63: 4, 76: 4, 487: 4, 171: 3, 79: 3, 299: 3, 43: 3, 393: 3, 98: 3, 93: 3, 470: 3, 349: 3, 501: 3, 496: 3, 322: 3, 256: 3, 494: 3, 232: 3, 262: 3, 499: 3, 357: 3, 29: 3, 136: 3, 20: 3, 469: 3, 16: 3, 407: 3, 61: 3, 45: 3, 157: 3, 64: 3, 337: 3, 411: 3, 479: 3, 251: 3, 121: 3, 132: 3, 12: 3, 306: 3, 489: 3, 119: 3, 374: 3, 449: 3, 190: 3, 104: 3, 244: 3, 187: 3, 41: 3, 95: 3, 431: 3, 363: 3, 201: 3, 88: 3, 115: 3, 422: 3, 13: 3, 360: 3, 447: 3, 194: 3, 19: 3, 127: 3, 485: 3, 264: 3, 273: 3, 432: 3, 130: 3, 270: 3, 293: 3, 406: 3, 145: 3, 298: 3, 325: 3, 53: 3, 55: 3, 101: 3, 126: 3, 461: 3, 440: 3, 230: 3, 324: 3, 331: 3, 18: 3, 174: 3, 308: 3, 241: 3, 344: 3, 376: 3, 392: 3, 408: 3, 305: 3, 399: 3, 23: 3, 339: 3, 0: 3, 328: 3, 472: 3, 51: 3, 433: 3, 99: 3, 417: 3, 267: 3, 176: 3, 361: 2, 75: 2, 186: 2, 307: 2, 4: 2, 212: 2, 252: 2, 283: 2, 504: 2, 317: 2, 169: 2, 394: 2, 481: 2, 170: 2, 73: 2, 97: 2, 271: 2, 206: 2, 172: 2, 443: 2, 355: 2, 253: 2, 131: 2, 243: 2, 58: 2, 35: 2, 38: 2, 343: 2, 290: 2, 274: 2, 372: 2, 33: 2, 257: 2, 402: 2, 111: 2, 7: 2, 83: 2, 435: 2, 21: 2, 292: 2, 386: 2, 398: 2, 5: 2, 377: 2, 300: 2, 353: 2, 106: 2, 350: 2, 475: 2, 26: 2, 511: 2, 245: 2, 49: 2, 129: 2, 451: 2, 200: 2, 425: 2, 188: 2, 446: 2, 70: 2, 382: 2, 381: 2, 396: 2, 173: 2, 59: 2, 442: 2, 347: 2, 118: 2, 404: 2, 87: 2, 453: 2, 142: 2, 236: 2, 218: 2, 207: 2, 291: 2, 403: 2, 160: 2, 146: 2, 415: 2, 420: 2, 140: 2, 238: 2, 285: 2, 192: 2, 503: 2, 108: 2, 456: 2, 421: 2, 78: 2, 153: 2, 483: 2, 302: 2, 56: 2, 397: 2, 486: 2, 216: 2, 391: 2, 138: 2, 37: 2, 42: 2, 288: 2, 364: 2, 179: 2, 478: 2, 426: 2, 199: 2, 401: 2, 405: 2, 321: 2, 454: 2, 284: 2, 375: 2, 275: 2, 497: 2, 276: 2, 327: 2, 314: 2, 389: 2, 460: 2, 463: 2, 15: 2, 419: 2, 122: 2, 310: 2, 229: 2, 502: 2, 114: 2, 228: 2, 362: 2, 467: 2, 445: 2, 144: 1, 11: 1, 116: 1, 213: 1, 295: 1, 352: 1, 125: 1, 450: 1, 266: 1, 301: 1, 69: 1, 250: 1, 455: 1, 400: 1, 80: 1, 96: 1, 263: 1, 90: 1, 221: 1, 217: 1, 226: 1, 220: 1, 311: 1, 351: 1, 205: 1, 348: 1, 164: 1, 345: 1, 39: 1, 219: 1, 161: 1, 74: 1, 319: 1, 418: 1, 495: 1, 500: 1, 165: 1, 464: 1, 365: 1, 508: 1, 178: 1, 281: 1, 197: 1, 1: 1, 507: 1, 304: 1, 338: 1, 120: 1, 182: 1, 332: 1, 8: 1, 260: 1, 413: 1, 286: 1, 175: 1, 31: 1, 473: 1, 249: 1, 326: 1, 102: 1, 289: 1, 387: 1, 14: 1, 54: 1, 428: 1, 265: 1, 436: 1, 410: 1, 152: 1, 147: 1, 211: 1, 52: 1, 85: 1, 68: 1, 9: 1, 278: 1, 32: 1, 30: 1, 103: 1, 444: 1, 246: 1, 342: 1, 208: 1, 439: 1, 46: 1, 167: 1, 137: 1, 150: 1, 359: 1, 488: 1, 6: 1, 198: 1, 36: 1, 424: 1, 416: 1, 493: 1, 82: 1, 162: 1, 312: 1, 163: 1, 441: 1, 67: 1, 498: 1, 297: 1, 57: 1, 505: 1, 255: 1, 482: 1, 181: 1, 141: 1, 2: 1, 47: 1, 34: 1, 81: 1, 371: 1, 316: 1, 149: 1, 237: 1, 17: 1, 484: 1, 123: 1, 25: 1, 210: 1, 44: 1, 48: 1, 468: 1, 430: 1, 452: 1, 135: 1, 203: 1, 279: 1, 491: 1, 209: 1, 227: 1, 280: 1, 193: 1, 341: 1, 77: 1, 166: 1, 40: 1, 204: 1, 168: 1, 458: 1, 356: 1, 240: 1, 309: 1, 214: 1, 366: 1, 423: 1, 224: 1})\n"
     ]
    }
   ],
   "source": [
    "circuit_meas=circuit_2DC\n",
    "circuit_meas.append(cirq.measure(*q, key='x'))\n",
    "\n",
    "simulator_meas = cirq.Simulator()\n",
    "result_meas = simulator_meas.run(circuit_meas, repetitions=num_rep)\n",
    "counts=print(result_meas.histogram(key='x'));"
   ]
  },
  {
   "cell_type": "code",
   "execution_count": null,
   "metadata": {},
   "outputs": [],
   "source": []
  },
  {
   "cell_type": "code",
   "execution_count": null,
   "metadata": {},
   "outputs": [],
   "source": []
  }
 ],
 "metadata": {
  "kernelspec": {
   "display_name": "Python 3",
   "language": "python",
   "name": "python3"
  },
  "language_info": {
   "codemirror_mode": {
    "name": "ipython",
    "version": 3
   },
   "file_extension": ".py",
   "mimetype": "text/x-python",
   "name": "python",
   "nbconvert_exporter": "python",
   "pygments_lexer": "ipython3",
   "version": "3.7.3"
  }
 },
 "nbformat": 4,
 "nbformat_minor": 4
}
